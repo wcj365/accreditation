{
 "cells": [
  {
   "cell_type": "code",
   "execution_count": 18,
   "metadata": {},
   "outputs": [],
   "source": [
    "import numpy as np\n",
    "import pandas as pd\n",
    "import requests \n",
    "from bs4 import BeautifulSoup\n",
    "import matplotlib.pyplot as plt"
   ]
  },
  {
   "cell_type": "code",
   "execution_count": 19,
   "metadata": {},
   "outputs": [
    {
     "name": "stdout",
     "output_type": "stream",
     "text": [
      "<!DOCTYPE html>\n",
      "<!--[if IE 7]>         <html lang=\"en-us\" class=\"html no-js lt-ie9 lt-ie8\"> <![endif]-->\n",
      "<!--[if IE 8]>         <html lang=\"en-us\" class=\"html no-js lt-ie9\">        <![endif]-->\n",
      "<!--[if IE 9]>         <html lang=\"en-us\" class=\"html no-js ie9\">           <![endif]-->\n",
      "<!--[if gt IE 9]><!-->\n",
      "<html class=\"html no-js\" lang=\"en-us\" moznomarginboxes=\"\">\n",
      " <!--<![endif]-->\n",
      " <head id=\"head\">\n",
      "  <meta content=\"text/html;charset=utf-8\" http-equiv=\"content-type\"/>\n",
      "  <meta content=\"IE=edge\" htt\n"
     ]
    }
   ],
   "source": [
    "#url = \"https://www.aacsb.edu/accreditation/accredited-schools\"\n",
    "html_content=\"./input/AACSB.html\"\n",
    "#html_content = requests.get(url).text\n",
    "soup = BeautifulSoup(open(html_content), \"lxml\")\n",
    "print(soup.prettify()[:500])"
   ]
  },
  {
   "cell_type": "code",
   "execution_count": 20,
   "metadata": {},
   "outputs": [
    {
     "name": "stdout",
     "output_type": "stream",
     "text": [
      "<div class=\"modContent\">\n",
      " <table style=\"width: 100%;\">\n",
      "  <thead>\n",
      "   <tr>\n",
      "    <th>\n",
      "    </th>\n",
      "    <th id=\"content_0_center_1_lstSchools_businessHeader\">\n",
      "     Business\n",
      "    </th>\n",
      "    <th id=\"content_0_center_1_lstSchools_accountingHeader\">\n",
      "     Accounting\n",
      "    </th>\n",
      "   </tr>\n",
      "  </thead>\n",
      "  <tbody>\n",
      "   <tr>\n",
      "    <td>\n",
      "     <p>\n",
      "      <b>\n",
      "       Aalto University\n",
      "      </b>\n",
      "      <span class=\"smaller\">\n",
      "       (Finland)\n",
      "      </span>\n",
      "      <br/>\n",
      "      School of Business\n",
      "      <br/>\n",
      "      <a href=\"http://biz.aa\n"
     ]
    }
   ],
   "source": [
    "my_div = soup.find(\"div\",{\"class\":\"modContent\"})\n",
    "print(my_div.prettify()[:500])"
   ]
  },
  {
   "cell_type": "code",
   "execution_count": 21,
   "metadata": {},
   "outputs": [
    {
     "name": "stdout",
     "output_type": "stream",
     "text": [
      "<table style=\"width: 100%;\">\n",
      " <thead>\n",
      "  <tr>\n",
      "   <th>\n",
      "   </th>\n",
      "   <th id=\"content_0_center_1_lstSchools_businessHeader\">\n",
      "    Business\n",
      "   </th>\n",
      "   <th id=\"content_0_center_1_lstSchools_accountingHeader\">\n",
      "    Accounting\n",
      "   </th>\n",
      "  </tr>\n",
      " </thead>\n",
      " <tbody>\n",
      "  <tr>\n",
      "   <td>\n",
      "    <p>\n",
      "     <b>\n",
      "      Aalto University\n",
      "     </b>\n",
      "     <span class=\"smaller\">\n",
      "      (Finland)\n",
      "     </span>\n",
      "     <br/>\n",
      "     School of Business\n",
      "     <br/>\n",
      "     <a href=\"http://biz.aalto.fi/en/\" id=\"content_0_center_1_lstSchools_hypVie\n"
     ]
    }
   ],
   "source": [
    "my_table = my_div.find(\"table\")\n",
    "print(my_table.prettify()[:500])"
   ]
  },
  {
   "cell_type": "code",
   "execution_count": 22,
   "metadata": {},
   "outputs": [
    {
     "data": {
      "text/plain": [
       "[<tr>\n",
       " <td>\n",
       " <p>\n",
       " <b>\n",
       " \t\t\t\t\t\t\t\t\tAalto University\n",
       " \t\t\t\t\t\t\t\t</b>\n",
       " <span class=\"smaller\">(Finland)</span><br/>\n",
       " \t\t\t\t\t\t\t\tSchool of Business\n",
       " \t\t\t\t\t\t\t\t<br/>\n",
       " <a href=\"http://biz.aalto.fi/en/\" id=\"content_0_center_1_lstSchools_hypViewSchool_0\" target=\"_blank\">Website</a>\n",
       " \t\t\t\t\t\t\t\t|\n",
       " \t\t\t\t\t\t\t\t<a href=\"https://datadirect.aacsb.edu/public/profiles/profile.cfm?runReport=1&amp;unitid=55340&amp;userType=All\" id=\"content_0_center_1_lstSchools_hypDataDirect_0\" target=\"_blank\">Member Profile</a>\n",
       " </p>\n",
       " </td>\n",
       " <td id=\"content_0_center_1_lstSchools_businessItem_0\" style=\"text-align:center; vertical-align: text-top;\"><img alt=\"Business\" class=\"school-list-check-mark\" src=\"/content/images/check2.png\"/></td>\n",
       " <td id=\"content_0_center_1_lstSchools_accoutingItem_0\" style=\"text-align:center; vertical-align: text-top;\"></td>\n",
       " </tr>, <tr>\n",
       " <td>\n",
       " <p>\n",
       " <b>\n",
       " \t\t\t\t\t\t\t\t\tAarhus University, Aarhus BSS\n",
       " \t\t\t\t\t\t\t\t</b>\n",
       " <span class=\"smaller\">(Denmark)</span><br/>\n",
       " \t\t\t\t\t\t\t\tSchool of Business and Social Sciences\n",
       " \t\t\t\t\t\t\t\t<br/>\n",
       " <a href=\"http://bss.au.dk/\" id=\"content_0_center_1_lstSchools_hypViewSchool_1\" target=\"_blank\">Website</a>\n",
       " \t\t\t\t\t\t\t\t|\n",
       " \t\t\t\t\t\t\t\t<a href=\"https://datadirect.aacsb.edu/public/profiles/profile.cfm?runReport=1&amp;unitid=55087&amp;userType=All\" id=\"content_0_center_1_lstSchools_hypDataDirect_1\" target=\"_blank\">Member Profile</a>\n",
       " </p>\n",
       " </td>\n",
       " <td id=\"content_0_center_1_lstSchools_businessItem_1\" style=\"text-align:center; vertical-align: text-top;\"><img alt=\"Business\" class=\"school-list-check-mark\" src=\"/content/images/check2.png\"/></td>\n",
       " <td id=\"content_0_center_1_lstSchools_accoutingItem_1\" style=\"text-align:center; vertical-align: text-top;\"></td>\n",
       " </tr>, <tr>\n",
       " <td>\n",
       " <p>\n",
       " <b>\n",
       " \t\t\t\t\t\t\t\t\tAbilene Christian University\n",
       " \t\t\t\t\t\t\t\t</b>\n",
       " <span class=\"smaller\">(United States - TX)</span><br/>\n",
       " \t\t\t\t\t\t\t\tCollege of Business Administration\n",
       " \t\t\t\t\t\t\t\t<br/>\n",
       " <a href=\"http://www.acu.edu/academics/coba/index.html\" id=\"content_0_center_1_lstSchools_hypViewSchool_2\" target=\"_blank\">Website</a>\n",
       " \t\t\t\t\t\t\t\t|\n",
       " \t\t\t\t\t\t\t\t<a href=\"https://datadirect.aacsb.edu/public/profiles/profile.cfm?runReport=1&amp;unitid=54346&amp;userType=All\" id=\"content_0_center_1_lstSchools_hypDataDirect_2\" target=\"_blank\">Member Profile</a>\n",
       " </p>\n",
       " </td>\n",
       " <td id=\"content_0_center_1_lstSchools_businessItem_2\" style=\"text-align:center; vertical-align: text-top;\"><img alt=\"Business\" class=\"school-list-check-mark\" src=\"/content/images/check2.png\"/></td>\n",
       " <td id=\"content_0_center_1_lstSchools_accoutingItem_2\" style=\"text-align:center; vertical-align: text-top;\"></td>\n",
       " </tr>]"
      ]
     },
     "execution_count": 22,
     "metadata": {},
     "output_type": "execute_result"
    }
   ],
   "source": [
    "my_rows = my_table.tbody.find_all(\"tr\")\n",
    "my_rows[:3]"
   ]
  },
  {
   "cell_type": "code",
   "execution_count": 23,
   "metadata": {},
   "outputs": [
    {
     "data": {
      "text/plain": [
       "863"
      ]
     },
     "execution_count": 23,
     "metadata": {},
     "output_type": "execute_result"
    }
   ],
   "source": [
    "len(my_rows)"
   ]
  },
  {
   "cell_type": "code",
   "execution_count": 24,
   "metadata": {},
   "outputs": [
    {
     "data": {
      "text/plain": [
       "[['Aalto University',\n",
       "  '(Finland)',\n",
       "  'http://biz.aalto.fi/en/',\n",
       "  'https://datadirect.aacsb.edu/public/profiles/profile.cfm?runReport=1&unitid=55340&userType=All',\n",
       "  True,\n",
       "  False],\n",
       " ['Aarhus University, Aarhus BSS',\n",
       "  '(Denmark)',\n",
       "  'http://bss.au.dk/',\n",
       "  'https://datadirect.aacsb.edu/public/profiles/profile.cfm?runReport=1&unitid=55087&userType=All',\n",
       "  True,\n",
       "  False],\n",
       " ['Abilene Christian University',\n",
       "  '(United States - TX)',\n",
       "  'http://www.acu.edu/academics/coba/index.html',\n",
       "  'https://datadirect.aacsb.edu/public/profiles/profile.cfm?runReport=1&unitid=54346&userType=All',\n",
       "  True,\n",
       "  False],\n",
       " ['Abu Dhabi University',\n",
       "  '(United Arab Emirates)',\n",
       "  'http://www.adu.ac.ae',\n",
       "  'https://datadirect.aacsb.edu/public/profiles/profile.cfm?runReport=1&unitid=87687&userType=All',\n",
       "  True,\n",
       "  False],\n",
       " ['Adelphi University',\n",
       "  '(United States - NY)',\n",
       "  'http://business.adelphi.edu/',\n",
       "  'https://datadirect.aacsb.edu/public/profiles/profile.cfm?runReport=1&unitid=54347&userType=All',\n",
       "  True,\n",
       "  False],\n",
       " ['Alabama A&M University',\n",
       "  '(United States - AL)',\n",
       "  'http://www.aamu.edu',\n",
       "  'https://datadirect.aacsb.edu/public/profiles/profile.cfm?runReport=1&unitid=54354&userType=All',\n",
       "  True,\n",
       "  False],\n",
       " ['Alfred University',\n",
       "  '(United States - NY)',\n",
       "  'http://business.alfred.edu',\n",
       "  'https://datadirect.aacsb.edu/public/profiles/profile.cfm?runReport=1&unitid=54361&userType=All',\n",
       "  True,\n",
       "  False],\n",
       " ['American University',\n",
       "  '(United States - DC)',\n",
       "  'http://www.kogod.american.edu',\n",
       "  'https://datadirect.aacsb.edu/public/profiles/profile.cfm?runReport=1&unitid=54367&userType=All',\n",
       "  True,\n",
       "  False],\n",
       " ['The American University in Cairo',\n",
       "  '(Egypt)',\n",
       "  'http://www.aucegypt.edu/Business/Pages/default.aspx',\n",
       "  'https://datadirect.aacsb.edu/public/profiles/profile.cfm?runReport=1&unitid=55120&userType=All',\n",
       "  True,\n",
       "  False],\n",
       " ['American University in Dubai',\n",
       "  '(United Arab Emirates)',\n",
       "  'http://www.aud.edu',\n",
       "  'https://datadirect.aacsb.edu/public/profiles/profile.cfm?runReport=1&unitid=87700&userType=All',\n",
       "  True,\n",
       "  False]]"
      ]
     },
     "execution_count": 24,
     "metadata": {},
     "output_type": "execute_result"
    }
   ],
   "source": [
    "rows = []\n",
    "\n",
    "for tr in my_rows:\n",
    "    \n",
    "    columns = []   \n",
    "    \n",
    "    columns.append(tr.find(\"b\").text.strip())\n",
    "    columns.append(tr.find(\"span\").text.strip())\n",
    "    \n",
    "    for a in tr.find_all(\"a\"):\n",
    "        columns.append(a.get(\"href\"))\n",
    "        \n",
    "    business = tr.find(\"img\", alt=\"Business\")\n",
    "    if business != None:\n",
    "        columns.append(True)\n",
    "    else:\n",
    "        columns.append(False)\n",
    "        \n",
    "    accounting = tr.find(\"img\", alt=\"Accounting\")  \n",
    "    if accounting != None:\n",
    "        columns.append(True)\n",
    "    else: \n",
    "        columns.append(False)\n",
    "        \n",
    "    rows.append(columns)\n",
    "    \n",
    "rows[:10]"
   ]
  },
  {
   "cell_type": "code",
   "execution_count": 25,
   "metadata": {},
   "outputs": [
    {
     "data": {
      "text/plain": [
       "(863, 6)"
      ]
     },
     "execution_count": 25,
     "metadata": {},
     "output_type": "execute_result"
    }
   ],
   "source": [
    "df = pd.DataFrame(rows)\n",
    "df.shape"
   ]
  },
  {
   "cell_type": "code",
   "execution_count": 26,
   "metadata": {},
   "outputs": [
    {
     "data": {
      "text/html": [
       "<div>\n",
       "<style scoped>\n",
       "    .dataframe tbody tr th:only-of-type {\n",
       "        vertical-align: middle;\n",
       "    }\n",
       "\n",
       "    .dataframe tbody tr th {\n",
       "        vertical-align: top;\n",
       "    }\n",
       "\n",
       "    .dataframe thead th {\n",
       "        text-align: right;\n",
       "    }\n",
       "</style>\n",
       "<table border=\"1\" class=\"dataframe\">\n",
       "  <thead>\n",
       "    <tr style=\"text-align: right;\">\n",
       "      <th></th>\n",
       "      <th>0</th>\n",
       "      <th>1</th>\n",
       "      <th>2</th>\n",
       "      <th>3</th>\n",
       "      <th>4</th>\n",
       "      <th>5</th>\n",
       "    </tr>\n",
       "  </thead>\n",
       "  <tbody>\n",
       "    <tr>\n",
       "      <th>0</th>\n",
       "      <td>Aalto University</td>\n",
       "      <td>(Finland)</td>\n",
       "      <td>http://biz.aalto.fi/en/</td>\n",
       "      <td>https://datadirect.aacsb.edu/public/profiles/p...</td>\n",
       "      <td>True</td>\n",
       "      <td>False</td>\n",
       "    </tr>\n",
       "    <tr>\n",
       "      <th>1</th>\n",
       "      <td>Aarhus University, Aarhus BSS</td>\n",
       "      <td>(Denmark)</td>\n",
       "      <td>http://bss.au.dk/</td>\n",
       "      <td>https://datadirect.aacsb.edu/public/profiles/p...</td>\n",
       "      <td>True</td>\n",
       "      <td>False</td>\n",
       "    </tr>\n",
       "    <tr>\n",
       "      <th>2</th>\n",
       "      <td>Abilene Christian University</td>\n",
       "      <td>(United States - TX)</td>\n",
       "      <td>http://www.acu.edu/academics/coba/index.html</td>\n",
       "      <td>https://datadirect.aacsb.edu/public/profiles/p...</td>\n",
       "      <td>True</td>\n",
       "      <td>False</td>\n",
       "    </tr>\n",
       "    <tr>\n",
       "      <th>3</th>\n",
       "      <td>Abu Dhabi University</td>\n",
       "      <td>(United Arab Emirates)</td>\n",
       "      <td>http://www.adu.ac.ae</td>\n",
       "      <td>https://datadirect.aacsb.edu/public/profiles/p...</td>\n",
       "      <td>True</td>\n",
       "      <td>False</td>\n",
       "    </tr>\n",
       "    <tr>\n",
       "      <th>4</th>\n",
       "      <td>Adelphi University</td>\n",
       "      <td>(United States - NY)</td>\n",
       "      <td>http://business.adelphi.edu/</td>\n",
       "      <td>https://datadirect.aacsb.edu/public/profiles/p...</td>\n",
       "      <td>True</td>\n",
       "      <td>False</td>\n",
       "    </tr>\n",
       "  </tbody>\n",
       "</table>\n",
       "</div>"
      ],
      "text/plain": [
       "                               0                       1  \\\n",
       "0               Aalto University               (Finland)   \n",
       "1  Aarhus University, Aarhus BSS               (Denmark)   \n",
       "2   Abilene Christian University    (United States - TX)   \n",
       "3           Abu Dhabi University  (United Arab Emirates)   \n",
       "4             Adelphi University    (United States - NY)   \n",
       "\n",
       "                                              2  \\\n",
       "0                       http://biz.aalto.fi/en/   \n",
       "1                             http://bss.au.dk/   \n",
       "2  http://www.acu.edu/academics/coba/index.html   \n",
       "3                          http://www.adu.ac.ae   \n",
       "4                  http://business.adelphi.edu/   \n",
       "\n",
       "                                                   3     4      5  \n",
       "0  https://datadirect.aacsb.edu/public/profiles/p...  True  False  \n",
       "1  https://datadirect.aacsb.edu/public/profiles/p...  True  False  \n",
       "2  https://datadirect.aacsb.edu/public/profiles/p...  True  False  \n",
       "3  https://datadirect.aacsb.edu/public/profiles/p...  True  False  \n",
       "4  https://datadirect.aacsb.edu/public/profiles/p...  True  False  "
      ]
     },
     "execution_count": 26,
     "metadata": {},
     "output_type": "execute_result"
    }
   ],
   "source": [
    "df.head()"
   ]
  },
  {
   "cell_type": "code",
   "execution_count": 27,
   "metadata": {},
   "outputs": [
    {
     "data": {
      "text/html": [
       "<div>\n",
       "<style scoped>\n",
       "    .dataframe tbody tr th:only-of-type {\n",
       "        vertical-align: middle;\n",
       "    }\n",
       "\n",
       "    .dataframe tbody tr th {\n",
       "        vertical-align: top;\n",
       "    }\n",
       "\n",
       "    .dataframe thead th {\n",
       "        text-align: right;\n",
       "    }\n",
       "</style>\n",
       "<table border=\"1\" class=\"dataframe\">\n",
       "  <thead>\n",
       "    <tr style=\"text-align: right;\">\n",
       "      <th></th>\n",
       "      <th>Institution</th>\n",
       "      <th>Location</th>\n",
       "      <th>Website</th>\n",
       "      <th>Profile</th>\n",
       "      <th>Business</th>\n",
       "      <th>Accounting</th>\n",
       "    </tr>\n",
       "  </thead>\n",
       "  <tbody>\n",
       "    <tr>\n",
       "      <th>0</th>\n",
       "      <td>Aalto University</td>\n",
       "      <td>(Finland)</td>\n",
       "      <td>http://biz.aalto.fi/en/</td>\n",
       "      <td>https://datadirect.aacsb.edu/public/profiles/p...</td>\n",
       "      <td>True</td>\n",
       "      <td>False</td>\n",
       "    </tr>\n",
       "    <tr>\n",
       "      <th>1</th>\n",
       "      <td>Aarhus University, Aarhus BSS</td>\n",
       "      <td>(Denmark)</td>\n",
       "      <td>http://bss.au.dk/</td>\n",
       "      <td>https://datadirect.aacsb.edu/public/profiles/p...</td>\n",
       "      <td>True</td>\n",
       "      <td>False</td>\n",
       "    </tr>\n",
       "    <tr>\n",
       "      <th>2</th>\n",
       "      <td>Abilene Christian University</td>\n",
       "      <td>(United States - TX)</td>\n",
       "      <td>http://www.acu.edu/academics/coba/index.html</td>\n",
       "      <td>https://datadirect.aacsb.edu/public/profiles/p...</td>\n",
       "      <td>True</td>\n",
       "      <td>False</td>\n",
       "    </tr>\n",
       "    <tr>\n",
       "      <th>3</th>\n",
       "      <td>Abu Dhabi University</td>\n",
       "      <td>(United Arab Emirates)</td>\n",
       "      <td>http://www.adu.ac.ae</td>\n",
       "      <td>https://datadirect.aacsb.edu/public/profiles/p...</td>\n",
       "      <td>True</td>\n",
       "      <td>False</td>\n",
       "    </tr>\n",
       "    <tr>\n",
       "      <th>4</th>\n",
       "      <td>Adelphi University</td>\n",
       "      <td>(United States - NY)</td>\n",
       "      <td>http://business.adelphi.edu/</td>\n",
       "      <td>https://datadirect.aacsb.edu/public/profiles/p...</td>\n",
       "      <td>True</td>\n",
       "      <td>False</td>\n",
       "    </tr>\n",
       "  </tbody>\n",
       "</table>\n",
       "</div>"
      ],
      "text/plain": [
       "                     Institution                Location  \\\n",
       "0               Aalto University               (Finland)   \n",
       "1  Aarhus University, Aarhus BSS               (Denmark)   \n",
       "2   Abilene Christian University    (United States - TX)   \n",
       "3           Abu Dhabi University  (United Arab Emirates)   \n",
       "4             Adelphi University    (United States - NY)   \n",
       "\n",
       "                                        Website  \\\n",
       "0                       http://biz.aalto.fi/en/   \n",
       "1                             http://bss.au.dk/   \n",
       "2  http://www.acu.edu/academics/coba/index.html   \n",
       "3                          http://www.adu.ac.ae   \n",
       "4                  http://business.adelphi.edu/   \n",
       "\n",
       "                                             Profile  Business Accounting  \n",
       "0  https://datadirect.aacsb.edu/public/profiles/p...      True      False  \n",
       "1  https://datadirect.aacsb.edu/public/profiles/p...      True      False  \n",
       "2  https://datadirect.aacsb.edu/public/profiles/p...      True      False  \n",
       "3  https://datadirect.aacsb.edu/public/profiles/p...      True      False  \n",
       "4  https://datadirect.aacsb.edu/public/profiles/p...      True      False  "
      ]
     },
     "execution_count": 27,
     "metadata": {},
     "output_type": "execute_result"
    }
   ],
   "source": [
    "df.rename(columns={0:\"Institution\", 1:\"Location\", 2:\"Website\", 3:\"Profile\", 4:\"Business\", 5:\"Accounting\"}, inplace=True)\n",
    "df.head()"
   ]
  },
  {
   "cell_type": "code",
   "execution_count": 28,
   "metadata": {},
   "outputs": [
    {
     "data": {
      "text/html": [
       "<div>\n",
       "<style scoped>\n",
       "    .dataframe tbody tr th:only-of-type {\n",
       "        vertical-align: middle;\n",
       "    }\n",
       "\n",
       "    .dataframe tbody tr th {\n",
       "        vertical-align: top;\n",
       "    }\n",
       "\n",
       "    .dataframe thead th {\n",
       "        text-align: right;\n",
       "    }\n",
       "</style>\n",
       "<table border=\"1\" class=\"dataframe\">\n",
       "  <thead>\n",
       "    <tr style=\"text-align: right;\">\n",
       "      <th></th>\n",
       "      <th>Institution</th>\n",
       "      <th>Location</th>\n",
       "      <th>Website</th>\n",
       "      <th>Profile</th>\n",
       "      <th>Business</th>\n",
       "      <th>Accounting</th>\n",
       "    </tr>\n",
       "  </thead>\n",
       "  <tbody>\n",
       "    <tr>\n",
       "      <th>0</th>\n",
       "      <td>Aalto University</td>\n",
       "      <td>Finland</td>\n",
       "      <td>http://biz.aalto.fi/en/</td>\n",
       "      <td>https://datadirect.aacsb.edu/public/profiles/p...</td>\n",
       "      <td>True</td>\n",
       "      <td>False</td>\n",
       "    </tr>\n",
       "    <tr>\n",
       "      <th>1</th>\n",
       "      <td>Aarhus University, Aarhus BSS</td>\n",
       "      <td>Denmark</td>\n",
       "      <td>http://bss.au.dk/</td>\n",
       "      <td>https://datadirect.aacsb.edu/public/profiles/p...</td>\n",
       "      <td>True</td>\n",
       "      <td>False</td>\n",
       "    </tr>\n",
       "    <tr>\n",
       "      <th>2</th>\n",
       "      <td>Abilene Christian University</td>\n",
       "      <td>United States - TX</td>\n",
       "      <td>http://www.acu.edu/academics/coba/index.html</td>\n",
       "      <td>https://datadirect.aacsb.edu/public/profiles/p...</td>\n",
       "      <td>True</td>\n",
       "      <td>False</td>\n",
       "    </tr>\n",
       "    <tr>\n",
       "      <th>3</th>\n",
       "      <td>Abu Dhabi University</td>\n",
       "      <td>United Arab Emirates</td>\n",
       "      <td>http://www.adu.ac.ae</td>\n",
       "      <td>https://datadirect.aacsb.edu/public/profiles/p...</td>\n",
       "      <td>True</td>\n",
       "      <td>False</td>\n",
       "    </tr>\n",
       "    <tr>\n",
       "      <th>4</th>\n",
       "      <td>Adelphi University</td>\n",
       "      <td>United States - NY</td>\n",
       "      <td>http://business.adelphi.edu/</td>\n",
       "      <td>https://datadirect.aacsb.edu/public/profiles/p...</td>\n",
       "      <td>True</td>\n",
       "      <td>False</td>\n",
       "    </tr>\n",
       "  </tbody>\n",
       "</table>\n",
       "</div>"
      ],
      "text/plain": [
       "                     Institution              Location  \\\n",
       "0               Aalto University               Finland   \n",
       "1  Aarhus University, Aarhus BSS               Denmark   \n",
       "2   Abilene Christian University    United States - TX   \n",
       "3           Abu Dhabi University  United Arab Emirates   \n",
       "4             Adelphi University    United States - NY   \n",
       "\n",
       "                                        Website  \\\n",
       "0                       http://biz.aalto.fi/en/   \n",
       "1                             http://bss.au.dk/   \n",
       "2  http://www.acu.edu/academics/coba/index.html   \n",
       "3                          http://www.adu.ac.ae   \n",
       "4                  http://business.adelphi.edu/   \n",
       "\n",
       "                                             Profile  Business Accounting  \n",
       "0  https://datadirect.aacsb.edu/public/profiles/p...      True      False  \n",
       "1  https://datadirect.aacsb.edu/public/profiles/p...      True      False  \n",
       "2  https://datadirect.aacsb.edu/public/profiles/p...      True      False  \n",
       "3  https://datadirect.aacsb.edu/public/profiles/p...      True      False  \n",
       "4  https://datadirect.aacsb.edu/public/profiles/p...      True      False  "
      ]
     },
     "execution_count": 28,
     "metadata": {},
     "output_type": "execute_result"
    }
   ],
   "source": [
    "df[\"Location\"] = df[\"Location\"].apply(lambda x: x.strip(\"(\"))\n",
    "df[\"Location\"] = df[\"Location\"].apply(lambda x: x.strip(\")\"))\n",
    "df.head()"
   ]
  },
  {
   "cell_type": "code",
   "execution_count": 29,
   "metadata": {},
   "outputs": [
    {
     "data": {
      "text/html": [
       "<div>\n",
       "<style scoped>\n",
       "    .dataframe tbody tr th:only-of-type {\n",
       "        vertical-align: middle;\n",
       "    }\n",
       "\n",
       "    .dataframe tbody tr th {\n",
       "        vertical-align: top;\n",
       "    }\n",
       "\n",
       "    .dataframe thead th {\n",
       "        text-align: right;\n",
       "    }\n",
       "</style>\n",
       "<table border=\"1\" class=\"dataframe\">\n",
       "  <thead>\n",
       "    <tr style=\"text-align: right;\">\n",
       "      <th></th>\n",
       "      <th>Institution</th>\n",
       "      <th>Location</th>\n",
       "      <th>Website</th>\n",
       "      <th>Profile</th>\n",
       "      <th>Business</th>\n",
       "      <th>Accounting</th>\n",
       "      <th>Country</th>\n",
       "    </tr>\n",
       "  </thead>\n",
       "  <tbody>\n",
       "    <tr>\n",
       "      <th>0</th>\n",
       "      <td>Aalto University</td>\n",
       "      <td>Finland</td>\n",
       "      <td>http://biz.aalto.fi/en/</td>\n",
       "      <td>https://datadirect.aacsb.edu/public/profiles/p...</td>\n",
       "      <td>True</td>\n",
       "      <td>False</td>\n",
       "      <td>Finland</td>\n",
       "    </tr>\n",
       "    <tr>\n",
       "      <th>1</th>\n",
       "      <td>Aarhus University, Aarhus BSS</td>\n",
       "      <td>Denmark</td>\n",
       "      <td>http://bss.au.dk/</td>\n",
       "      <td>https://datadirect.aacsb.edu/public/profiles/p...</td>\n",
       "      <td>True</td>\n",
       "      <td>False</td>\n",
       "      <td>Denmark</td>\n",
       "    </tr>\n",
       "    <tr>\n",
       "      <th>2</th>\n",
       "      <td>Abilene Christian University</td>\n",
       "      <td>United States - TX</td>\n",
       "      <td>http://www.acu.edu/academics/coba/index.html</td>\n",
       "      <td>https://datadirect.aacsb.edu/public/profiles/p...</td>\n",
       "      <td>True</td>\n",
       "      <td>False</td>\n",
       "      <td>United States</td>\n",
       "    </tr>\n",
       "    <tr>\n",
       "      <th>3</th>\n",
       "      <td>Abu Dhabi University</td>\n",
       "      <td>United Arab Emirates</td>\n",
       "      <td>http://www.adu.ac.ae</td>\n",
       "      <td>https://datadirect.aacsb.edu/public/profiles/p...</td>\n",
       "      <td>True</td>\n",
       "      <td>False</td>\n",
       "      <td>United Arab Emirates</td>\n",
       "    </tr>\n",
       "    <tr>\n",
       "      <th>4</th>\n",
       "      <td>Adelphi University</td>\n",
       "      <td>United States - NY</td>\n",
       "      <td>http://business.adelphi.edu/</td>\n",
       "      <td>https://datadirect.aacsb.edu/public/profiles/p...</td>\n",
       "      <td>True</td>\n",
       "      <td>False</td>\n",
       "      <td>United States</td>\n",
       "    </tr>\n",
       "  </tbody>\n",
       "</table>\n",
       "</div>"
      ],
      "text/plain": [
       "                     Institution              Location  \\\n",
       "0               Aalto University               Finland   \n",
       "1  Aarhus University, Aarhus BSS               Denmark   \n",
       "2   Abilene Christian University    United States - TX   \n",
       "3           Abu Dhabi University  United Arab Emirates   \n",
       "4             Adelphi University    United States - NY   \n",
       "\n",
       "                                        Website  \\\n",
       "0                       http://biz.aalto.fi/en/   \n",
       "1                             http://bss.au.dk/   \n",
       "2  http://www.acu.edu/academics/coba/index.html   \n",
       "3                          http://www.adu.ac.ae   \n",
       "4                  http://business.adelphi.edu/   \n",
       "\n",
       "                                             Profile  Business Accounting  \\\n",
       "0  https://datadirect.aacsb.edu/public/profiles/p...      True      False   \n",
       "1  https://datadirect.aacsb.edu/public/profiles/p...      True      False   \n",
       "2  https://datadirect.aacsb.edu/public/profiles/p...      True      False   \n",
       "3  https://datadirect.aacsb.edu/public/profiles/p...      True      False   \n",
       "4  https://datadirect.aacsb.edu/public/profiles/p...      True      False   \n",
       "\n",
       "                Country  \n",
       "0               Finland  \n",
       "1               Denmark  \n",
       "2         United States  \n",
       "3  United Arab Emirates  \n",
       "4         United States  "
      ]
     },
     "execution_count": 29,
     "metadata": {},
     "output_type": "execute_result"
    }
   ],
   "source": [
    "df[\"Country\"] = df[\"Location\"].apply(lambda x: x.split(\"-\")[0].strip())\n",
    "df.head()"
   ]
  },
  {
   "cell_type": "code",
   "execution_count": 30,
   "metadata": {},
   "outputs": [
    {
     "data": {
      "text/html": [
       "<div>\n",
       "<style scoped>\n",
       "    .dataframe tbody tr th:only-of-type {\n",
       "        vertical-align: middle;\n",
       "    }\n",
       "\n",
       "    .dataframe tbody tr th {\n",
       "        vertical-align: top;\n",
       "    }\n",
       "\n",
       "    .dataframe thead th {\n",
       "        text-align: right;\n",
       "    }\n",
       "</style>\n",
       "<table border=\"1\" class=\"dataframe\">\n",
       "  <thead>\n",
       "    <tr style=\"text-align: right;\">\n",
       "      <th></th>\n",
       "      <th>Institution</th>\n",
       "      <th>Location</th>\n",
       "      <th>Website</th>\n",
       "      <th>Profile</th>\n",
       "      <th>Business</th>\n",
       "      <th>Accounting</th>\n",
       "      <th>Country</th>\n",
       "      <th>State</th>\n",
       "    </tr>\n",
       "  </thead>\n",
       "  <tbody>\n",
       "    <tr>\n",
       "      <th>0</th>\n",
       "      <td>Aalto University</td>\n",
       "      <td>Finland</td>\n",
       "      <td>http://biz.aalto.fi/en/</td>\n",
       "      <td>https://datadirect.aacsb.edu/public/profiles/p...</td>\n",
       "      <td>True</td>\n",
       "      <td>False</td>\n",
       "      <td>Finland</td>\n",
       "      <td></td>\n",
       "    </tr>\n",
       "    <tr>\n",
       "      <th>1</th>\n",
       "      <td>Aarhus University, Aarhus BSS</td>\n",
       "      <td>Denmark</td>\n",
       "      <td>http://bss.au.dk/</td>\n",
       "      <td>https://datadirect.aacsb.edu/public/profiles/p...</td>\n",
       "      <td>True</td>\n",
       "      <td>False</td>\n",
       "      <td>Denmark</td>\n",
       "      <td></td>\n",
       "    </tr>\n",
       "    <tr>\n",
       "      <th>2</th>\n",
       "      <td>Abilene Christian University</td>\n",
       "      <td>United States - TX</td>\n",
       "      <td>http://www.acu.edu/academics/coba/index.html</td>\n",
       "      <td>https://datadirect.aacsb.edu/public/profiles/p...</td>\n",
       "      <td>True</td>\n",
       "      <td>False</td>\n",
       "      <td>United States</td>\n",
       "      <td>TX</td>\n",
       "    </tr>\n",
       "    <tr>\n",
       "      <th>3</th>\n",
       "      <td>Abu Dhabi University</td>\n",
       "      <td>United Arab Emirates</td>\n",
       "      <td>http://www.adu.ac.ae</td>\n",
       "      <td>https://datadirect.aacsb.edu/public/profiles/p...</td>\n",
       "      <td>True</td>\n",
       "      <td>False</td>\n",
       "      <td>United Arab Emirates</td>\n",
       "      <td></td>\n",
       "    </tr>\n",
       "    <tr>\n",
       "      <th>4</th>\n",
       "      <td>Adelphi University</td>\n",
       "      <td>United States - NY</td>\n",
       "      <td>http://business.adelphi.edu/</td>\n",
       "      <td>https://datadirect.aacsb.edu/public/profiles/p...</td>\n",
       "      <td>True</td>\n",
       "      <td>False</td>\n",
       "      <td>United States</td>\n",
       "      <td>NY</td>\n",
       "    </tr>\n",
       "  </tbody>\n",
       "</table>\n",
       "</div>"
      ],
      "text/plain": [
       "                     Institution              Location  \\\n",
       "0               Aalto University               Finland   \n",
       "1  Aarhus University, Aarhus BSS               Denmark   \n",
       "2   Abilene Christian University    United States - TX   \n",
       "3           Abu Dhabi University  United Arab Emirates   \n",
       "4             Adelphi University    United States - NY   \n",
       "\n",
       "                                        Website  \\\n",
       "0                       http://biz.aalto.fi/en/   \n",
       "1                             http://bss.au.dk/   \n",
       "2  http://www.acu.edu/academics/coba/index.html   \n",
       "3                          http://www.adu.ac.ae   \n",
       "4                  http://business.adelphi.edu/   \n",
       "\n",
       "                                             Profile  Business Accounting  \\\n",
       "0  https://datadirect.aacsb.edu/public/profiles/p...      True      False   \n",
       "1  https://datadirect.aacsb.edu/public/profiles/p...      True      False   \n",
       "2  https://datadirect.aacsb.edu/public/profiles/p...      True      False   \n",
       "3  https://datadirect.aacsb.edu/public/profiles/p...      True      False   \n",
       "4  https://datadirect.aacsb.edu/public/profiles/p...      True      False   \n",
       "\n",
       "                Country State  \n",
       "0               Finland        \n",
       "1               Denmark        \n",
       "2         United States    TX  \n",
       "3  United Arab Emirates        \n",
       "4         United States    NY  "
      ]
     },
     "execution_count": 30,
     "metadata": {},
     "output_type": "execute_result"
    }
   ],
   "source": [
    "df[\"State\"] = df[\"Location\"].apply(lambda x: x.split(\"-\")[1] if len(x.split(\"-\")) == 2 else \"\")\n",
    "df.head()"
   ]
  },
  {
   "cell_type": "code",
   "execution_count": 31,
   "metadata": {},
   "outputs": [
    {
     "data": {
      "text/plain": [
       "Country\n",
       "Argentina                  1\n",
       "Russian Federation         1\n",
       "Qatar                      1\n",
       "Pakistan                   1\n",
       "Nigeria                    1\n",
       "Morocco                    1\n",
       "Italy                      1\n",
       "Egypt                      1\n",
       "Ecuador                    1\n",
       "Costa Rica                 1\n",
       "Venezuela                  1\n",
       "Bosnia and Herzegovina     1\n",
       "Bahrain                    1\n",
       "Lebanon                    2\n",
       "Norway                     2\n",
       "Israel                     2\n",
       "Slovenia                   2\n",
       "Indonesia                  2\n",
       "Philippines                2\n",
       "Colombia                   2\n",
       "Austria                    2\n",
       "Denmark                    2\n",
       "Croatia                    2\n",
       "Poland                     2\n",
       "Turkey                     3\n",
       "Brazil                     3\n",
       "Peru                       3\n",
       "Kuwait                     3\n",
       "Singapore                  3\n",
       "Chile                      3\n",
       "South Africa               3\n",
       "Ireland                    3\n",
       "Portugal                   4\n",
       "Belgium                    4\n",
       "Japan                      4\n",
       "Sweden                     4\n",
       "Switzerland                4\n",
       "Mexico                     4\n",
       "Saudi Arabia               4\n",
       "Spain                      5\n",
       "Finland                    5\n",
       "Thailand                   6\n",
       "Malaysia                   6\n",
       "Netherlands                6\n",
       "New Zealand                7\n",
       "United Arab Emirates       7\n",
       "India                     11\n",
       "Germany                   11\n",
       "South Korea               18\n",
       "Australia                 18\n",
       "France                    23\n",
       "Canada                    24\n",
       "Taiwan                    26\n",
       "China                     34\n",
       "United Kingdom            35\n",
       "Name: Institution, dtype: int64"
      ]
     },
     "execution_count": 31,
     "metadata": {},
     "output_type": "execute_result"
    }
   ],
   "source": [
    "agg = df[df[\"Country\"] != \"United States\"].groupby(\"Country\")[\"Institution\"].count().sort_values()\n",
    "agg"
   ]
  },
  {
   "cell_type": "code",
   "execution_count": 32,
   "metadata": {},
   "outputs": [
    {
     "data": {
      "text/plain": [
       "<matplotlib.axes._subplots.AxesSubplot at 0x7f2607406f10>"
      ]
     },
     "execution_count": 32,
     "metadata": {},
     "output_type": "execute_result"
    },
    {
     "data": {
      "image/png": "[encoded data removed]",
      "text/plain": [
       "<Figure size 864x1152 with 1 Axes>"
      ]
     },
     "metadata": {
      "needs_background": "light"
     },
     "output_type": "display_data"
    }
   ],
   "source": [
    "fig, ax = plt.subplots(figsize=(12,16))\n",
    "agg.plot.barh(ax=ax)"
   ]
  },
  {
   "cell_type": "code",
   "execution_count": 33,
   "metadata": {},
   "outputs": [
    {
     "data": {
      "text/plain": [
       "State\n",
       " WY     1\n",
       " VT     1\n",
       " SD     2\n",
       " PR     2\n",
       " NV     2\n",
       " NM     2\n",
       " NH     2\n",
       " ND     2\n",
       " WV     2\n",
       " ME     2\n",
       " HI     2\n",
       " AK     2\n",
       " DE     2\n",
       " ID     3\n",
       " MT     3\n",
       " IA     4\n",
       " RI     4\n",
       " AZ     4\n",
       " NE     4\n",
       " DC     4\n",
       " OR     5\n",
       " UT     6\n",
       " OK     6\n",
       " MS     6\n",
       " KS     6\n",
       " MN     7\n",
       " KY     8\n",
       " MD     9\n",
       " AR     9\n",
       " WI    10\n",
       " CT    10\n",
       " CO    10\n",
       " WA    11\n",
       " TN    11\n",
       " SC    11\n",
       " AL    13\n",
       " MO    13\n",
       " NJ    14\n",
       " IN    15\n",
       " MI    15\n",
       " LA    15\n",
       " OH    16\n",
       " VA    18\n",
       " MA    19\n",
       " IL    19\n",
       " NC    19\n",
       " FL    19\n",
       " GA    21\n",
       " PA    26\n",
       " TX    38\n",
       " CA    39\n",
       " NY    40\n",
       "Name: Institution, dtype: int64"
      ]
     },
     "execution_count": 33,
     "metadata": {},
     "output_type": "execute_result"
    }
   ],
   "source": [
    "agg2 = df[df[\"Country\"] == \"United States\"].groupby(\"State\")[\"Institution\"].count().sort_values()\n",
    "agg2"
   ]
  },
  {
   "cell_type": "code",
   "execution_count": 34,
   "metadata": {},
   "outputs": [
    {
     "data": {
      "text/plain": [
       "<matplotlib.axes._subplots.AxesSubplot at 0x7f26061a91d0>"
      ]
     },
     "execution_count": 34,
     "metadata": {},
     "output_type": "execute_result"
    },
    {
     "data": {
      "image/png": "[encoded data removed]",
      "text/plain": [
       "<Figure size 864x1152 with 1 Axes>"
      ]
     },
     "metadata": {
      "needs_background": "light"
     },
     "output_type": "display_data"
    }
   ],
   "source": [
    "fig, ax = plt.subplots(figsize=(12,16))\n",
    "agg2.plot.barh(ax=ax)"
   ]
  },
  {
   "cell_type": "code",
   "execution_count": 35,
   "metadata": {},
   "outputs": [
    {
     "ename": "FileNotFoundError",
     "evalue": "[Errno 2] File b'MERGED2017_18_PP.csv' does not exist: b'MERGED2017_18_PP.csv'",
     "output_type": "error",
     "traceback": [
      "\u001b[0;31m---------------------------------------------------------------------------\u001b[0m",
      "\u001b[0;31mFileNotFoundError\u001b[0m                         Traceback (most recent call last)",
      "\u001b[0;32m<ipython-input-35-e265fe301ba4>\u001b[0m in \u001b[0;36m<module>\u001b[0;34m\u001b[0m\n\u001b[0;32m----> 1\u001b[0;31m \u001b[0mdf_sc\u001b[0m \u001b[0;34m=\u001b[0m \u001b[0mpd\u001b[0m\u001b[0;34m.\u001b[0m\u001b[0mread_csv\u001b[0m\u001b[0;34m(\u001b[0m\u001b[0;34m\"MERGED2017_18_PP.csv\"\u001b[0m\u001b[0;34m,\u001b[0m \u001b[0musecols\u001b[0m\u001b[0;34m=\u001b[0m\u001b[0;34m[\u001b[0m\u001b[0;34m\"UNITID\"\u001b[0m\u001b[0;34m,\u001b[0m \u001b[0;34m\"INSTNM\"\u001b[0m\u001b[0;34m,\u001b[0m \u001b[0;34m\"STABBR\"\u001b[0m\u001b[0;34m]\u001b[0m\u001b[0;34m)\u001b[0m\u001b[0;34m\u001b[0m\u001b[0;34m\u001b[0m\u001b[0m\n\u001b[0m\u001b[1;32m      2\u001b[0m \u001b[0mdf_sc\u001b[0m\u001b[0;34m.\u001b[0m\u001b[0mhead\u001b[0m\u001b[0;34m(\u001b[0m\u001b[0;34m)\u001b[0m\u001b[0;34m\u001b[0m\u001b[0;34m\u001b[0m\u001b[0m\n",
      "\u001b[0;32m/usr/local/lib/python3.7/site-packages/pandas/io/parsers.py\u001b[0m in \u001b[0;36mparser_f\u001b[0;34m(filepath_or_buffer, sep, delimiter, header, names, index_col, usecols, squeeze, prefix, mangle_dupe_cols, dtype, engine, converters, true_values, false_values, skipinitialspace, skiprows, skipfooter, nrows, na_values, keep_default_na, na_filter, verbose, skip_blank_lines, parse_dates, infer_datetime_format, keep_date_col, date_parser, dayfirst, cache_dates, iterator, chunksize, compression, thousands, decimal, lineterminator, quotechar, quoting, doublequote, escapechar, comment, encoding, dialect, error_bad_lines, warn_bad_lines, delim_whitespace, low_memory, memory_map, float_precision)\u001b[0m\n\u001b[1;32m    683\u001b[0m         )\n\u001b[1;32m    684\u001b[0m \u001b[0;34m\u001b[0m\u001b[0m\n\u001b[0;32m--> 685\u001b[0;31m         \u001b[0;32mreturn\u001b[0m \u001b[0m_read\u001b[0m\u001b[0;34m(\u001b[0m\u001b[0mfilepath_or_buffer\u001b[0m\u001b[0;34m,\u001b[0m \u001b[0mkwds\u001b[0m\u001b[0;34m)\u001b[0m\u001b[0;34m\u001b[0m\u001b[0;34m\u001b[0m\u001b[0m\n\u001b[0m\u001b[1;32m    686\u001b[0m \u001b[0;34m\u001b[0m\u001b[0m\n\u001b[1;32m    687\u001b[0m     \u001b[0mparser_f\u001b[0m\u001b[0;34m.\u001b[0m\u001b[0m__name__\u001b[0m \u001b[0;34m=\u001b[0m \u001b[0mname\u001b[0m\u001b[0;34m\u001b[0m\u001b[0;34m\u001b[0m\u001b[0m\n",
      "\u001b[0;32m/usr/local/lib/python3.7/site-packages/pandas/io/parsers.py\u001b[0m in \u001b[0;36m_read\u001b[0;34m(filepath_or_buffer, kwds)\u001b[0m\n\u001b[1;32m    455\u001b[0m \u001b[0;34m\u001b[0m\u001b[0m\n\u001b[1;32m    456\u001b[0m     \u001b[0;31m# Create the parser.\u001b[0m\u001b[0;34m\u001b[0m\u001b[0;34m\u001b[0m\u001b[0;34m\u001b[0m\u001b[0m\n\u001b[0;32m--> 457\u001b[0;31m     \u001b[0mparser\u001b[0m \u001b[0;34m=\u001b[0m \u001b[0mTextFileReader\u001b[0m\u001b[0;34m(\u001b[0m\u001b[0mfp_or_buf\u001b[0m\u001b[0;34m,\u001b[0m \u001b[0;34m**\u001b[0m\u001b[0mkwds\u001b[0m\u001b[0;34m)\u001b[0m\u001b[0;34m\u001b[0m\u001b[0;34m\u001b[0m\u001b[0m\n\u001b[0m\u001b[1;32m    458\u001b[0m \u001b[0;34m\u001b[0m\u001b[0m\n\u001b[1;32m    459\u001b[0m     \u001b[0;32mif\u001b[0m \u001b[0mchunksize\u001b[0m \u001b[0;32mor\u001b[0m \u001b[0miterator\u001b[0m\u001b[0;34m:\u001b[0m\u001b[0;34m\u001b[0m\u001b[0;34m\u001b[0m\u001b[0m\n",
      "\u001b[0;32m/usr/local/lib/python3.7/site-packages/pandas/io/parsers.py\u001b[0m in \u001b[0;36m__init__\u001b[0;34m(self, f, engine, **kwds)\u001b[0m\n\u001b[1;32m    893\u001b[0m             \u001b[0mself\u001b[0m\u001b[0;34m.\u001b[0m\u001b[0moptions\u001b[0m\u001b[0;34m[\u001b[0m\u001b[0;34m\"has_index_names\"\u001b[0m\u001b[0;34m]\u001b[0m \u001b[0;34m=\u001b[0m \u001b[0mkwds\u001b[0m\u001b[0;34m[\u001b[0m\u001b[0;34m\"has_index_names\"\u001b[0m\u001b[0;34m]\u001b[0m\u001b[0;34m\u001b[0m\u001b[0;34m\u001b[0m\u001b[0m\n\u001b[1;32m    894\u001b[0m \u001b[0;34m\u001b[0m\u001b[0m\n\u001b[0;32m--> 895\u001b[0;31m         \u001b[0mself\u001b[0m\u001b[0;34m.\u001b[0m\u001b[0m_make_engine\u001b[0m\u001b[0;34m(\u001b[0m\u001b[0mself\u001b[0m\u001b[0;34m.\u001b[0m\u001b[0mengine\u001b[0m\u001b[0;34m)\u001b[0m\u001b[0;34m\u001b[0m\u001b[0;34m\u001b[0m\u001b[0m\n\u001b[0m\u001b[1;32m    896\u001b[0m \u001b[0;34m\u001b[0m\u001b[0m\n\u001b[1;32m    897\u001b[0m     \u001b[0;32mdef\u001b[0m \u001b[0mclose\u001b[0m\u001b[0;34m(\u001b[0m\u001b[0mself\u001b[0m\u001b[0;34m)\u001b[0m\u001b[0;34m:\u001b[0m\u001b[0;34m\u001b[0m\u001b[0;34m\u001b[0m\u001b[0m\n",
      "\u001b[0;32m/usr/local/lib/python3.7/site-packages/pandas/io/parsers.py\u001b[0m in \u001b[0;36m_make_engine\u001b[0;34m(self, engine)\u001b[0m\n\u001b[1;32m   1133\u001b[0m     \u001b[0;32mdef\u001b[0m \u001b[0m_make_engine\u001b[0m\u001b[0;34m(\u001b[0m\u001b[0mself\u001b[0m\u001b[0;34m,\u001b[0m \u001b[0mengine\u001b[0m\u001b[0;34m=\u001b[0m\u001b[0;34m\"c\"\u001b[0m\u001b[0;34m)\u001b[0m\u001b[0;34m:\u001b[0m\u001b[0;34m\u001b[0m\u001b[0;34m\u001b[0m\u001b[0m\n\u001b[1;32m   1134\u001b[0m         \u001b[0;32mif\u001b[0m \u001b[0mengine\u001b[0m \u001b[0;34m==\u001b[0m \u001b[0;34m\"c\"\u001b[0m\u001b[0;34m:\u001b[0m\u001b[0;34m\u001b[0m\u001b[0;34m\u001b[0m\u001b[0m\n\u001b[0;32m-> 1135\u001b[0;31m             \u001b[0mself\u001b[0m\u001b[0;34m.\u001b[0m\u001b[0m_engine\u001b[0m \u001b[0;34m=\u001b[0m \u001b[0mCParserWrapper\u001b[0m\u001b[0;34m(\u001b[0m\u001b[0mself\u001b[0m\u001b[0;34m.\u001b[0m\u001b[0mf\u001b[0m\u001b[0;34m,\u001b[0m \u001b[0;34m**\u001b[0m\u001b[0mself\u001b[0m\u001b[0;34m.\u001b[0m\u001b[0moptions\u001b[0m\u001b[0;34m)\u001b[0m\u001b[0;34m\u001b[0m\u001b[0;34m\u001b[0m\u001b[0m\n\u001b[0m\u001b[1;32m   1136\u001b[0m         \u001b[0;32melse\u001b[0m\u001b[0;34m:\u001b[0m\u001b[0;34m\u001b[0m\u001b[0;34m\u001b[0m\u001b[0m\n\u001b[1;32m   1137\u001b[0m             \u001b[0;32mif\u001b[0m \u001b[0mengine\u001b[0m \u001b[0;34m==\u001b[0m \u001b[0;34m\"python\"\u001b[0m\u001b[0;34m:\u001b[0m\u001b[0;34m\u001b[0m\u001b[0;34m\u001b[0m\u001b[0m\n",
      "\u001b[0;32m/usr/local/lib/python3.7/site-packages/pandas/io/parsers.py\u001b[0m in \u001b[0;36m__init__\u001b[0;34m(self, src, **kwds)\u001b[0m\n\u001b[1;32m   1915\u001b[0m         \u001b[0mkwds\u001b[0m\u001b[0;34m[\u001b[0m\u001b[0;34m\"usecols\"\u001b[0m\u001b[0;34m]\u001b[0m \u001b[0;34m=\u001b[0m \u001b[0mself\u001b[0m\u001b[0;34m.\u001b[0m\u001b[0musecols\u001b[0m\u001b[0;34m\u001b[0m\u001b[0;34m\u001b[0m\u001b[0m\n\u001b[1;32m   1916\u001b[0m \u001b[0;34m\u001b[0m\u001b[0m\n\u001b[0;32m-> 1917\u001b[0;31m         \u001b[0mself\u001b[0m\u001b[0;34m.\u001b[0m\u001b[0m_reader\u001b[0m \u001b[0;34m=\u001b[0m \u001b[0mparsers\u001b[0m\u001b[0;34m.\u001b[0m\u001b[0mTextReader\u001b[0m\u001b[0;34m(\u001b[0m\u001b[0msrc\u001b[0m\u001b[0;34m,\u001b[0m \u001b[0;34m**\u001b[0m\u001b[0mkwds\u001b[0m\u001b[0;34m)\u001b[0m\u001b[0;34m\u001b[0m\u001b[0;34m\u001b[0m\u001b[0m\n\u001b[0m\u001b[1;32m   1918\u001b[0m         \u001b[0mself\u001b[0m\u001b[0;34m.\u001b[0m\u001b[0munnamed_cols\u001b[0m \u001b[0;34m=\u001b[0m \u001b[0mself\u001b[0m\u001b[0;34m.\u001b[0m\u001b[0m_reader\u001b[0m\u001b[0;34m.\u001b[0m\u001b[0munnamed_cols\u001b[0m\u001b[0;34m\u001b[0m\u001b[0;34m\u001b[0m\u001b[0m\n\u001b[1;32m   1919\u001b[0m \u001b[0;34m\u001b[0m\u001b[0m\n",
      "\u001b[0;32mpandas/_libs/parsers.pyx\u001b[0m in \u001b[0;36mpandas._libs.parsers.TextReader.__cinit__\u001b[0;34m()\u001b[0m\n",
      "\u001b[0;32mpandas/_libs/parsers.pyx\u001b[0m in \u001b[0;36mpandas._libs.parsers.TextReader._setup_parser_source\u001b[0;34m()\u001b[0m\n",
      "\u001b[0;31mFileNotFoundError\u001b[0m: [Errno 2] File b'MERGED2017_18_PP.csv' does not exist: b'MERGED2017_18_PP.csv'"
     ]
    }
   ],
   "source": [
    "df_sc = pd.read_csv(\"MERGED2017_18_PP.csv\", usecols=[\"UNITID\", \"INSTNM\", \"STABBR\"])\n",
    "df_sc.head()"
   ]
  },
  {
   "cell_type": "code",
   "execution_count": null,
   "metadata": {},
   "outputs": [],
   "source": [
    "df.shape"
   ]
  },
  {
   "cell_type": "code",
   "execution_count": null,
   "metadata": {},
   "outputs": [],
   "source": [
    "df_us = df[df[\"Country\"] == \"United States\"]\n",
    "df_us.shape"
   ]
  },
  {
   "cell_type": "code",
   "execution_count": null,
   "metadata": {},
   "outputs": [],
   "source": [
    "df_merge = pd.merge(df_us, df_sc, left_on='Institution', right_on='INSTNM', how=\"left\")\n",
    "df_merge.shape"
   ]
  },
  {
   "cell_type": "code",
   "execution_count": null,
   "metadata": {},
   "outputs": [],
   "source": [
    "df_merge[df_merge[\"UNITID\"].isnull()] "
   ]
  },
  {
   "cell_type": "code",
   "execution_count": null,
   "metadata": {},
   "outputs": [],
   "source": [
    "df.to_csv(\"./output/AACSB.csv\")"
   ]
  },
  {
   "cell_type": "markdown",
   "metadata": {},
   "source": [
    "The END"
   ]
  },
  {
   "cell_type": "code",
   "execution_count": null,
   "metadata": {},
   "outputs": [],
   "source": []
  }
 ],
 "metadata": {
  "kernelspec": {
   "display_name": "Python 3",
   "language": "python",
   "name": "python3"
  },
  "language_info": {
   "codemirror_mode": {
    "name": "ipython",
    "version": 3
   },
   "file_extension": ".py",
   "mimetype": "text/x-python",
   "name": "python",
   "nbconvert_exporter": "python",
   "pygments_lexer": "ipython3",
   "version": "3.7.4"
  }
 },
 "nbformat": 4,
 "nbformat_minor": 4
}
