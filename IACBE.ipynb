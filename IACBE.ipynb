{
 "cells": [
  {
   "cell_type": "markdown",
   "metadata": {},
   "source": [
    "## IACBE \n",
    "International Accrediation Council for Business Education (IACBE)"
   ]
  },
  {
   "cell_type": "code",
   "execution_count": 1,
   "metadata": {},
   "outputs": [],
   "source": [
    "import numpy as np\n",
    "import pandas as pd\n",
    "import requests \n",
    "from bs4 import BeautifulSoup\n",
    "import matplotlib.pyplot as plt"
   ]
  },
  {
   "cell_type": "code",
   "execution_count": 72,
   "metadata": {},
   "outputs": [],
   "source": [
    "url = \"https://iacbe.org/accreditation/member-status-information/results/?BCountry=&BState=&BStatus=&BAlpha=\"\n",
    "html_content = requests.get(url).text\n",
    "soup = BeautifulSoup(html_content, \"lxml\")\n",
    "#print(soup.prettify())"
   ]
  },
  {
   "cell_type": "code",
   "execution_count": 73,
   "metadata": {},
   "outputs": [
    {
     "name": "stdout",
     "output_type": "stream",
     "text": [
      "<!DOCTYPE html>\n",
      "<html class=\"no-js\" lang=\"en-US\">\n",
      " <head>\n",
      "  <!--\n",
      "           ▲\n",
      "          ◢▮◣          ██████  ██████\n",
      "     ◥▮▮▮▮▮▮▮▮▮▮▮◤     ██   ██      ██\n",
      "       ◥▮▮▮▮▮▮▮◤       ██████   █████\n",
      "       ◢▮▮◤ ◥▮▮◣       ██           ██\n",
      "      ◢▮◤     ◥▮◣      ██      ██████\n",
      "    Created By: propaganda3.com\n",
      "    -->\n",
      "  <!-- Google Tag Manager -->\n",
      "  <script>\n",
      "   (function(w,d,s,l,i){w[l]=w[l]||[];w[l].push({'gtm.start':\n",
      "new Date().getTime(),event:'gtm.js'});var f=d.getElementsByTagName(s)[0],\n",
      "j=d.createEle\n"
     ]
    }
   ],
   "source": [
    "print(soup.prettify()[:500])"
   ]
  },
  {
   "cell_type": "code",
   "execution_count": 74,
   "metadata": {},
   "outputs": [],
   "source": [
    "my_div = soup.find(\"div\",{\"class\":\"scroll-table\"})\n",
    "#print(my_div.prettify())"
   ]
  },
  {
   "cell_type": "code",
   "execution_count": 75,
   "metadata": {},
   "outputs": [],
   "source": [
    "my_table = my_div.find(\"table\")\n",
    "#print(my_table.prettify())"
   ]
  },
  {
   "cell_type": "code",
   "execution_count": 76,
   "metadata": {},
   "outputs": [
    {
     "data": {
      "text/plain": [
       "[<th class=\"\">Institution Name</th>,\n",
       " <th class=\"\">Location</th>,\n",
       " <th class=\"\">Academic Business Unit</th>,\n",
       " <th class=\"\">Membership Status<br/>(Click for more information)</th>]"
      ]
     },
     "execution_count": 76,
     "metadata": {},
     "output_type": "execute_result"
    }
   ],
   "source": [
    "my_ths = my_table.find_all(\"th\")\n",
    "my_ths"
   ]
  },
  {
   "cell_type": "code",
   "execution_count": 77,
   "metadata": {},
   "outputs": [
    {
     "data": {
      "text/plain": [
       "['Institution Name',\n",
       " 'Location',\n",
       " 'Academic Business Unit',\n",
       " 'Membership Status(Click for more information)']"
      ]
     },
     "execution_count": 77,
     "metadata": {},
     "output_type": "execute_result"
    }
   ],
   "source": [
    "column_names = []\n",
    "for th in my_ths:\n",
    "    column_names.append(th.text.strip())\n",
    "column_names"
   ]
  },
  {
   "cell_type": "code",
   "execution_count": 102,
   "metadata": {},
   "outputs": [
    {
     "data": {
      "text/plain": [
       "['Institution', 'Location', 'Academic Business Unit', 'Membership Status']"
      ]
     },
     "execution_count": 102,
     "metadata": {},
     "output_type": "execute_result"
    }
   ],
   "source": [
    "column_names[0] = \"Institution\"\n",
    "column_names[3] = \"Membership Status\"\n",
    "column_names"
   ]
  },
  {
   "cell_type": "code",
   "execution_count": 103,
   "metadata": {},
   "outputs": [
    {
     "data": {
      "text/plain": [
       "[<tr class=\"\"> <th class=\"\">Institution Name</th> <th class=\"\">Location</th> <th class=\"\">Academic Business Unit</th> <th class=\"\">Membership Status<br/>(Click for more information)</th> </tr>,\n",
       " <tr class=\"\"> <td class=\"\"><strong><a class=\" txt-underline\" href=\"http://www.theaims.ac.in/\" target=\"_blank\">AIMS Institute of Higher Education (AIMS Institutes)</a></strong></td> <td class=\"\">India</td> <td class=\"\"></td> <td class=\"\"><a class=\"txt-underline\" href=\"http://www.iacbe.org/memberpdf/AIMSInstitute.pdf\" target=\"_blank\">Accredited Member (pdf)</a></td> </tr>,\n",
       " <tr class=\"\"> <td class=\"\"><strong><a class=\" txt-underline\" href=\"https://abbs.edu.in/\" target=\"_blank\">Acharya Bangalore Business School</a></strong></td> <td class=\"\">India</td> <td class=\"\">Acharya Bangalore Business School</td> <td class=\"\"><a class=\"txt-underline\" href=\"http://www.iacbe.org/memberpdf/AcharyaBangaloreBusinessSchool.pdf\" target=\"_blank\">Accredited Member (pdf)</a></td> </tr>,\n",
       " <tr class=\"\"> <td class=\"\"><strong><a class=\" txt-underline\" href=\"http://aditya.ac.in/degree-surampalem/index.php\" target=\"_blank\">Aditya Degree College</a></strong></td> <td class=\"\">India</td> <td class=\"\"></td> <td class=\"\"><a class=\"txt-underline\" href=\"http://www.iacbe.org/memberpdf/AdityaDegreeCollege.pdf\" target=\"_blank\">Educational Member (pdf)</a></td> </tr>]"
      ]
     },
     "execution_count": 103,
     "metadata": {},
     "output_type": "execute_result"
    }
   ],
   "source": [
    "my_rows = my_table.find_all(\"tr\")\n",
    "my_rows[:4]    # display the first three rows"
   ]
  },
  {
   "cell_type": "code",
   "execution_count": 104,
   "metadata": {},
   "outputs": [
    {
     "data": {
      "text/plain": [
       "[[],\n",
       " ['AIMS Institute of Higher Education (AIMS Institutes)',\n",
       "  'India',\n",
       "  '',\n",
       "  'Accredited Member (pdf)'],\n",
       " ['Acharya Bangalore Business School',\n",
       "  'India',\n",
       "  'Acharya Bangalore Business School',\n",
       "  'Accredited Member (pdf)']]"
      ]
     },
     "execution_count": 104,
     "metadata": {},
     "output_type": "execute_result"
    }
   ],
   "source": [
    "rows = []\n",
    "for tr in my_rows:\n",
    "    columns = []\n",
    "    for td in tr.find_all(\"td\"):\n",
    "        columns.append(td.text.strip())\n",
    "    rows.append(columns)\n",
    "rows[:3]   # print the first 2 rows"
   ]
  },
  {
   "cell_type": "code",
   "execution_count": 105,
   "metadata": {},
   "outputs": [
    {
     "data": {
      "text/html": [
       "<div>\n",
       "<style scoped>\n",
       "    .dataframe tbody tr th:only-of-type {\n",
       "        vertical-align: middle;\n",
       "    }\n",
       "\n",
       "    .dataframe tbody tr th {\n",
       "        vertical-align: top;\n",
       "    }\n",
       "\n",
       "    .dataframe thead th {\n",
       "        text-align: right;\n",
       "    }\n",
       "</style>\n",
       "<table border=\"1\" class=\"dataframe\">\n",
       "  <thead>\n",
       "    <tr style=\"text-align: right;\">\n",
       "      <th></th>\n",
       "      <th>0</th>\n",
       "      <th>1</th>\n",
       "      <th>2</th>\n",
       "      <th>3</th>\n",
       "    </tr>\n",
       "  </thead>\n",
       "  <tbody>\n",
       "    <tr>\n",
       "      <th>0</th>\n",
       "      <td>None</td>\n",
       "      <td>None</td>\n",
       "      <td>None</td>\n",
       "      <td>None</td>\n",
       "    </tr>\n",
       "    <tr>\n",
       "      <th>1</th>\n",
       "      <td>AIMS Institute of Higher Education (AIMS Insti...</td>\n",
       "      <td>India</td>\n",
       "      <td></td>\n",
       "      <td>Accredited Member (pdf)</td>\n",
       "    </tr>\n",
       "    <tr>\n",
       "      <th>2</th>\n",
       "      <td>Acharya Bangalore Business School</td>\n",
       "      <td>India</td>\n",
       "      <td>Acharya Bangalore Business School</td>\n",
       "      <td>Accredited Member (pdf)</td>\n",
       "    </tr>\n",
       "    <tr>\n",
       "      <th>3</th>\n",
       "      <td>Aditya Degree College</td>\n",
       "      <td>India</td>\n",
       "      <td></td>\n",
       "      <td>Educational Member (pdf)</td>\n",
       "    </tr>\n",
       "    <tr>\n",
       "      <th>4</th>\n",
       "      <td>Adventist International Institute of Advanced ...</td>\n",
       "      <td>Philippines</td>\n",
       "      <td></td>\n",
       "      <td>Educational Member (pdf)</td>\n",
       "    </tr>\n",
       "    <tr>\n",
       "      <th>5</th>\n",
       "      <td>Alaska Pacific University</td>\n",
       "      <td>AK</td>\n",
       "      <td>Institute of Business &amp; Public Policy</td>\n",
       "      <td>Accredited Member (pdf)</td>\n",
       "    </tr>\n",
       "    <tr>\n",
       "      <th>6</th>\n",
       "      <td>Albertus Magnus College</td>\n",
       "      <td>CT</td>\n",
       "      <td>The Tagliatela School of Business and Leadership</td>\n",
       "      <td>Accredited Member (pdf)</td>\n",
       "    </tr>\n",
       "    <tr>\n",
       "      <th>7</th>\n",
       "      <td>Alliance University</td>\n",
       "      <td>India</td>\n",
       "      <td>Alliance School of Business</td>\n",
       "      <td>Accredited Member (pdf)</td>\n",
       "    </tr>\n",
       "    <tr>\n",
       "      <th>8</th>\n",
       "      <td>American Business School of Paris</td>\n",
       "      <td>France</td>\n",
       "      <td></td>\n",
       "      <td>Accredited Member (pdf)</td>\n",
       "    </tr>\n",
       "    <tr>\n",
       "      <th>9</th>\n",
       "      <td>American Graduate School of Business</td>\n",
       "      <td>Switzerland</td>\n",
       "      <td></td>\n",
       "      <td>Accredited Member (pdf)</td>\n",
       "    </tr>\n",
       "  </tbody>\n",
       "</table>\n",
       "</div>"
      ],
      "text/plain": [
       "                                                   0            1  \\\n",
       "0                                               None         None   \n",
       "1  AIMS Institute of Higher Education (AIMS Insti...        India   \n",
       "2                  Acharya Bangalore Business School        India   \n",
       "3                              Aditya Degree College        India   \n",
       "4  Adventist International Institute of Advanced ...  Philippines   \n",
       "5                          Alaska Pacific University           AK   \n",
       "6                            Albertus Magnus College           CT   \n",
       "7                                Alliance University        India   \n",
       "8                  American Business School of Paris       France   \n",
       "9               American Graduate School of Business  Switzerland   \n",
       "\n",
       "                                                  2                         3  \n",
       "0                                              None                      None  \n",
       "1                                                     Accredited Member (pdf)  \n",
       "2                 Acharya Bangalore Business School   Accredited Member (pdf)  \n",
       "3                                                    Educational Member (pdf)  \n",
       "4                                                    Educational Member (pdf)  \n",
       "5             Institute of Business & Public Policy   Accredited Member (pdf)  \n",
       "6  The Tagliatela School of Business and Leadership   Accredited Member (pdf)  \n",
       "7                       Alliance School of Business   Accredited Member (pdf)  \n",
       "8                                                     Accredited Member (pdf)  \n",
       "9                                                     Accredited Member (pdf)  "
      ]
     },
     "execution_count": 105,
     "metadata": {},
     "output_type": "execute_result"
    }
   ],
   "source": [
    "df = pd.DataFrame(rows)\n",
    "df.head(10)"
   ]
  },
  {
   "cell_type": "code",
   "execution_count": 106,
   "metadata": {},
   "outputs": [
    {
     "data": {
      "text/html": [
       "<div>\n",
       "<style scoped>\n",
       "    .dataframe tbody tr th:only-of-type {\n",
       "        vertical-align: middle;\n",
       "    }\n",
       "\n",
       "    .dataframe tbody tr th {\n",
       "        vertical-align: top;\n",
       "    }\n",
       "\n",
       "    .dataframe thead th {\n",
       "        text-align: right;\n",
       "    }\n",
       "</style>\n",
       "<table border=\"1\" class=\"dataframe\">\n",
       "  <thead>\n",
       "    <tr style=\"text-align: right;\">\n",
       "      <th></th>\n",
       "      <th>Institution</th>\n",
       "      <th>Location</th>\n",
       "      <th>Academic Business Unit</th>\n",
       "      <th>Membership Status</th>\n",
       "    </tr>\n",
       "  </thead>\n",
       "  <tbody>\n",
       "    <tr>\n",
       "      <th>0</th>\n",
       "      <td>None</td>\n",
       "      <td>None</td>\n",
       "      <td>None</td>\n",
       "      <td>None</td>\n",
       "    </tr>\n",
       "    <tr>\n",
       "      <th>1</th>\n",
       "      <td>AIMS Institute of Higher Education (AIMS Insti...</td>\n",
       "      <td>India</td>\n",
       "      <td></td>\n",
       "      <td>Accredited Member (pdf)</td>\n",
       "    </tr>\n",
       "    <tr>\n",
       "      <th>2</th>\n",
       "      <td>Acharya Bangalore Business School</td>\n",
       "      <td>India</td>\n",
       "      <td>Acharya Bangalore Business School</td>\n",
       "      <td>Accredited Member (pdf)</td>\n",
       "    </tr>\n",
       "    <tr>\n",
       "      <th>3</th>\n",
       "      <td>Aditya Degree College</td>\n",
       "      <td>India</td>\n",
       "      <td></td>\n",
       "      <td>Educational Member (pdf)</td>\n",
       "    </tr>\n",
       "    <tr>\n",
       "      <th>4</th>\n",
       "      <td>Adventist International Institute of Advanced ...</td>\n",
       "      <td>Philippines</td>\n",
       "      <td></td>\n",
       "      <td>Educational Member (pdf)</td>\n",
       "    </tr>\n",
       "  </tbody>\n",
       "</table>\n",
       "</div>"
      ],
      "text/plain": [
       "                                         Institution     Location  \\\n",
       "0                                               None         None   \n",
       "1  AIMS Institute of Higher Education (AIMS Insti...        India   \n",
       "2                  Acharya Bangalore Business School        India   \n",
       "3                              Aditya Degree College        India   \n",
       "4  Adventist International Institute of Advanced ...  Philippines   \n",
       "\n",
       "              Academic Business Unit         Membership Status  \n",
       "0                               None                      None  \n",
       "1                                      Accredited Member (pdf)  \n",
       "2  Acharya Bangalore Business School   Accredited Member (pdf)  \n",
       "3                                     Educational Member (pdf)  \n",
       "4                                     Educational Member (pdf)  "
      ]
     },
     "execution_count": 106,
     "metadata": {},
     "output_type": "execute_result"
    }
   ],
   "source": [
    "df.columns = column_names\n",
    "df.head()"
   ]
  },
  {
   "cell_type": "code",
   "execution_count": 107,
   "metadata": {},
   "outputs": [
    {
     "data": {
      "text/html": [
       "<div>\n",
       "<style scoped>\n",
       "    .dataframe tbody tr th:only-of-type {\n",
       "        vertical-align: middle;\n",
       "    }\n",
       "\n",
       "    .dataframe tbody tr th {\n",
       "        vertical-align: top;\n",
       "    }\n",
       "\n",
       "    .dataframe thead th {\n",
       "        text-align: right;\n",
       "    }\n",
       "</style>\n",
       "<table border=\"1\" class=\"dataframe\">\n",
       "  <thead>\n",
       "    <tr style=\"text-align: right;\">\n",
       "      <th></th>\n",
       "      <th>Institution</th>\n",
       "      <th>Location</th>\n",
       "      <th>Academic Business Unit</th>\n",
       "      <th>Membership Status</th>\n",
       "    </tr>\n",
       "  </thead>\n",
       "  <tbody>\n",
       "    <tr>\n",
       "      <th>1</th>\n",
       "      <td>AIMS Institute of Higher Education (AIMS Insti...</td>\n",
       "      <td>India</td>\n",
       "      <td></td>\n",
       "      <td>Accredited Member (pdf)</td>\n",
       "    </tr>\n",
       "    <tr>\n",
       "      <th>2</th>\n",
       "      <td>Acharya Bangalore Business School</td>\n",
       "      <td>India</td>\n",
       "      <td>Acharya Bangalore Business School</td>\n",
       "      <td>Accredited Member (pdf)</td>\n",
       "    </tr>\n",
       "    <tr>\n",
       "      <th>3</th>\n",
       "      <td>Aditya Degree College</td>\n",
       "      <td>India</td>\n",
       "      <td></td>\n",
       "      <td>Educational Member (pdf)</td>\n",
       "    </tr>\n",
       "    <tr>\n",
       "      <th>4</th>\n",
       "      <td>Adventist International Institute of Advanced ...</td>\n",
       "      <td>Philippines</td>\n",
       "      <td></td>\n",
       "      <td>Educational Member (pdf)</td>\n",
       "    </tr>\n",
       "    <tr>\n",
       "      <th>5</th>\n",
       "      <td>Alaska Pacific University</td>\n",
       "      <td>AK</td>\n",
       "      <td>Institute of Business &amp; Public Policy</td>\n",
       "      <td>Accredited Member (pdf)</td>\n",
       "    </tr>\n",
       "  </tbody>\n",
       "</table>\n",
       "</div>"
      ],
      "text/plain": [
       "                                         Institution     Location  \\\n",
       "1  AIMS Institute of Higher Education (AIMS Insti...        India   \n",
       "2                  Acharya Bangalore Business School        India   \n",
       "3                              Aditya Degree College        India   \n",
       "4  Adventist International Institute of Advanced ...  Philippines   \n",
       "5                          Alaska Pacific University           AK   \n",
       "\n",
       "                  Academic Business Unit         Membership Status  \n",
       "1                                          Accredited Member (pdf)  \n",
       "2      Acharya Bangalore Business School   Accredited Member (pdf)  \n",
       "3                                         Educational Member (pdf)  \n",
       "4                                         Educational Member (pdf)  \n",
       "5  Institute of Business & Public Policy   Accredited Member (pdf)  "
      ]
     },
     "execution_count": 107,
     "metadata": {},
     "output_type": "execute_result"
    }
   ],
   "source": [
    "# Drop the first row\n",
    "df.drop(df.index[0], inplace=True)\n",
    "df.head()"
   ]
  },
  {
   "cell_type": "code",
   "execution_count": 108,
   "metadata": {},
   "outputs": [
    {
     "data": {
      "text/html": [
       "<div>\n",
       "<style scoped>\n",
       "    .dataframe tbody tr th:only-of-type {\n",
       "        vertical-align: middle;\n",
       "    }\n",
       "\n",
       "    .dataframe tbody tr th {\n",
       "        vertical-align: top;\n",
       "    }\n",
       "\n",
       "    .dataframe thead th {\n",
       "        text-align: right;\n",
       "    }\n",
       "</style>\n",
       "<table border=\"1\" class=\"dataframe\">\n",
       "  <thead>\n",
       "    <tr style=\"text-align: right;\">\n",
       "      <th></th>\n",
       "      <th>Institution</th>\n",
       "      <th>Location</th>\n",
       "      <th>Academic Business Unit</th>\n",
       "      <th>Membership Status</th>\n",
       "      <th>Country</th>\n",
       "    </tr>\n",
       "  </thead>\n",
       "  <tbody>\n",
       "    <tr>\n",
       "      <th>1</th>\n",
       "      <td>AIMS Institute of Higher Education (AIMS Insti...</td>\n",
       "      <td>India</td>\n",
       "      <td></td>\n",
       "      <td>Accredited Member (pdf)</td>\n",
       "      <td>India</td>\n",
       "    </tr>\n",
       "    <tr>\n",
       "      <th>2</th>\n",
       "      <td>Acharya Bangalore Business School</td>\n",
       "      <td>India</td>\n",
       "      <td>Acharya Bangalore Business School</td>\n",
       "      <td>Accredited Member (pdf)</td>\n",
       "      <td>India</td>\n",
       "    </tr>\n",
       "    <tr>\n",
       "      <th>3</th>\n",
       "      <td>Aditya Degree College</td>\n",
       "      <td>India</td>\n",
       "      <td></td>\n",
       "      <td>Educational Member (pdf)</td>\n",
       "      <td>India</td>\n",
       "    </tr>\n",
       "    <tr>\n",
       "      <th>4</th>\n",
       "      <td>Adventist International Institute of Advanced ...</td>\n",
       "      <td>Philippines</td>\n",
       "      <td></td>\n",
       "      <td>Educational Member (pdf)</td>\n",
       "      <td>Philippines</td>\n",
       "    </tr>\n",
       "    <tr>\n",
       "      <th>5</th>\n",
       "      <td>Alaska Pacific University</td>\n",
       "      <td>AK</td>\n",
       "      <td>Institute of Business &amp; Public Policy</td>\n",
       "      <td>Accredited Member (pdf)</td>\n",
       "      <td>United States</td>\n",
       "    </tr>\n",
       "    <tr>\n",
       "      <th>6</th>\n",
       "      <td>Albertus Magnus College</td>\n",
       "      <td>CT</td>\n",
       "      <td>The Tagliatela School of Business and Leadership</td>\n",
       "      <td>Accredited Member (pdf)</td>\n",
       "      <td>United States</td>\n",
       "    </tr>\n",
       "    <tr>\n",
       "      <th>7</th>\n",
       "      <td>Alliance University</td>\n",
       "      <td>India</td>\n",
       "      <td>Alliance School of Business</td>\n",
       "      <td>Accredited Member (pdf)</td>\n",
       "      <td>India</td>\n",
       "    </tr>\n",
       "    <tr>\n",
       "      <th>8</th>\n",
       "      <td>American Business School of Paris</td>\n",
       "      <td>France</td>\n",
       "      <td></td>\n",
       "      <td>Accredited Member (pdf)</td>\n",
       "      <td>France</td>\n",
       "    </tr>\n",
       "    <tr>\n",
       "      <th>9</th>\n",
       "      <td>American Graduate School of Business</td>\n",
       "      <td>Switzerland</td>\n",
       "      <td></td>\n",
       "      <td>Accredited Member (pdf)</td>\n",
       "      <td>Switzerland</td>\n",
       "    </tr>\n",
       "    <tr>\n",
       "      <th>10</th>\n",
       "      <td>American International College</td>\n",
       "      <td>MA</td>\n",
       "      <td>School of Business, Arts, and Sciences</td>\n",
       "      <td>Accredited Member (pdf)</td>\n",
       "      <td>United States</td>\n",
       "    </tr>\n",
       "  </tbody>\n",
       "</table>\n",
       "</div>"
      ],
      "text/plain": [
       "                                          Institution     Location  \\\n",
       "1   AIMS Institute of Higher Education (AIMS Insti...        India   \n",
       "2                   Acharya Bangalore Business School        India   \n",
       "3                               Aditya Degree College        India   \n",
       "4   Adventist International Institute of Advanced ...  Philippines   \n",
       "5                           Alaska Pacific University           AK   \n",
       "6                             Albertus Magnus College           CT   \n",
       "7                                 Alliance University        India   \n",
       "8                   American Business School of Paris       France   \n",
       "9                American Graduate School of Business  Switzerland   \n",
       "10                     American International College           MA   \n",
       "\n",
       "                              Academic Business Unit  \\\n",
       "1                                                      \n",
       "2                  Acharya Bangalore Business School   \n",
       "3                                                      \n",
       "4                                                      \n",
       "5              Institute of Business & Public Policy   \n",
       "6   The Tagliatela School of Business and Leadership   \n",
       "7                        Alliance School of Business   \n",
       "8                                                      \n",
       "9                                                      \n",
       "10            School of Business, Arts, and Sciences   \n",
       "\n",
       "           Membership Status        Country  \n",
       "1    Accredited Member (pdf)          India  \n",
       "2    Accredited Member (pdf)          India  \n",
       "3   Educational Member (pdf)          India  \n",
       "4   Educational Member (pdf)    Philippines  \n",
       "5    Accredited Member (pdf)  United States  \n",
       "6    Accredited Member (pdf)  United States  \n",
       "7    Accredited Member (pdf)          India  \n",
       "8    Accredited Member (pdf)         France  \n",
       "9    Accredited Member (pdf)    Switzerland  \n",
       "10   Accredited Member (pdf)  United States  "
      ]
     },
     "execution_count": 108,
     "metadata": {},
     "output_type": "execute_result"
    }
   ],
   "source": [
    "df[\"Country\"] = df[\"Location\"].apply(lambda x: x if len(x) > 2 else \"United States\")\n",
    "df.head(10)"
   ]
  },
  {
   "cell_type": "code",
   "execution_count": 109,
   "metadata": {},
   "outputs": [
    {
     "data": {
      "text/html": [
       "<div>\n",
       "<style scoped>\n",
       "    .dataframe tbody tr th:only-of-type {\n",
       "        vertical-align: middle;\n",
       "    }\n",
       "\n",
       "    .dataframe tbody tr th {\n",
       "        vertical-align: top;\n",
       "    }\n",
       "\n",
       "    .dataframe thead th {\n",
       "        text-align: right;\n",
       "    }\n",
       "</style>\n",
       "<table border=\"1\" class=\"dataframe\">\n",
       "  <thead>\n",
       "    <tr style=\"text-align: right;\">\n",
       "      <th></th>\n",
       "      <th>Institution</th>\n",
       "      <th>Location</th>\n",
       "      <th>Academic Business Unit</th>\n",
       "      <th>Membership Status</th>\n",
       "      <th>Country</th>\n",
       "      <th>State</th>\n",
       "    </tr>\n",
       "  </thead>\n",
       "  <tbody>\n",
       "    <tr>\n",
       "      <th>1</th>\n",
       "      <td>AIMS Institute of Higher Education (AIMS Insti...</td>\n",
       "      <td>India</td>\n",
       "      <td></td>\n",
       "      <td>Accredited Member (pdf)</td>\n",
       "      <td>India</td>\n",
       "      <td></td>\n",
       "    </tr>\n",
       "    <tr>\n",
       "      <th>2</th>\n",
       "      <td>Acharya Bangalore Business School</td>\n",
       "      <td>India</td>\n",
       "      <td>Acharya Bangalore Business School</td>\n",
       "      <td>Accredited Member (pdf)</td>\n",
       "      <td>India</td>\n",
       "      <td></td>\n",
       "    </tr>\n",
       "    <tr>\n",
       "      <th>3</th>\n",
       "      <td>Aditya Degree College</td>\n",
       "      <td>India</td>\n",
       "      <td></td>\n",
       "      <td>Educational Member (pdf)</td>\n",
       "      <td>India</td>\n",
       "      <td></td>\n",
       "    </tr>\n",
       "    <tr>\n",
       "      <th>4</th>\n",
       "      <td>Adventist International Institute of Advanced ...</td>\n",
       "      <td>Philippines</td>\n",
       "      <td></td>\n",
       "      <td>Educational Member (pdf)</td>\n",
       "      <td>Philippines</td>\n",
       "      <td></td>\n",
       "    </tr>\n",
       "    <tr>\n",
       "      <th>5</th>\n",
       "      <td>Alaska Pacific University</td>\n",
       "      <td>AK</td>\n",
       "      <td>Institute of Business &amp; Public Policy</td>\n",
       "      <td>Accredited Member (pdf)</td>\n",
       "      <td>United States</td>\n",
       "      <td>AK</td>\n",
       "    </tr>\n",
       "    <tr>\n",
       "      <th>6</th>\n",
       "      <td>Albertus Magnus College</td>\n",
       "      <td>CT</td>\n",
       "      <td>The Tagliatela School of Business and Leadership</td>\n",
       "      <td>Accredited Member (pdf)</td>\n",
       "      <td>United States</td>\n",
       "      <td>CT</td>\n",
       "    </tr>\n",
       "    <tr>\n",
       "      <th>7</th>\n",
       "      <td>Alliance University</td>\n",
       "      <td>India</td>\n",
       "      <td>Alliance School of Business</td>\n",
       "      <td>Accredited Member (pdf)</td>\n",
       "      <td>India</td>\n",
       "      <td></td>\n",
       "    </tr>\n",
       "    <tr>\n",
       "      <th>8</th>\n",
       "      <td>American Business School of Paris</td>\n",
       "      <td>France</td>\n",
       "      <td></td>\n",
       "      <td>Accredited Member (pdf)</td>\n",
       "      <td>France</td>\n",
       "      <td></td>\n",
       "    </tr>\n",
       "    <tr>\n",
       "      <th>9</th>\n",
       "      <td>American Graduate School of Business</td>\n",
       "      <td>Switzerland</td>\n",
       "      <td></td>\n",
       "      <td>Accredited Member (pdf)</td>\n",
       "      <td>Switzerland</td>\n",
       "      <td></td>\n",
       "    </tr>\n",
       "    <tr>\n",
       "      <th>10</th>\n",
       "      <td>American International College</td>\n",
       "      <td>MA</td>\n",
       "      <td>School of Business, Arts, and Sciences</td>\n",
       "      <td>Accredited Member (pdf)</td>\n",
       "      <td>United States</td>\n",
       "      <td>MA</td>\n",
       "    </tr>\n",
       "  </tbody>\n",
       "</table>\n",
       "</div>"
      ],
      "text/plain": [
       "                                          Institution     Location  \\\n",
       "1   AIMS Institute of Higher Education (AIMS Insti...        India   \n",
       "2                   Acharya Bangalore Business School        India   \n",
       "3                               Aditya Degree College        India   \n",
       "4   Adventist International Institute of Advanced ...  Philippines   \n",
       "5                           Alaska Pacific University           AK   \n",
       "6                             Albertus Magnus College           CT   \n",
       "7                                 Alliance University        India   \n",
       "8                   American Business School of Paris       France   \n",
       "9                American Graduate School of Business  Switzerland   \n",
       "10                     American International College           MA   \n",
       "\n",
       "                              Academic Business Unit  \\\n",
       "1                                                      \n",
       "2                  Acharya Bangalore Business School   \n",
       "3                                                      \n",
       "4                                                      \n",
       "5              Institute of Business & Public Policy   \n",
       "6   The Tagliatela School of Business and Leadership   \n",
       "7                        Alliance School of Business   \n",
       "8                                                      \n",
       "9                                                      \n",
       "10            School of Business, Arts, and Sciences   \n",
       "\n",
       "           Membership Status        Country State  \n",
       "1    Accredited Member (pdf)          India        \n",
       "2    Accredited Member (pdf)          India        \n",
       "3   Educational Member (pdf)          India        \n",
       "4   Educational Member (pdf)    Philippines        \n",
       "5    Accredited Member (pdf)  United States    AK  \n",
       "6    Accredited Member (pdf)  United States    CT  \n",
       "7    Accredited Member (pdf)          India        \n",
       "8    Accredited Member (pdf)         France        \n",
       "9    Accredited Member (pdf)    Switzerland        \n",
       "10   Accredited Member (pdf)  United States    MA  "
      ]
     },
     "execution_count": 109,
     "metadata": {},
     "output_type": "execute_result"
    }
   ],
   "source": [
    "df[\"State\"] = df[\"Location\"].apply(lambda x: x if len(x) == 2 else \"\")\n",
    "df.head(10)"
   ]
  },
  {
   "cell_type": "code",
   "execution_count": 112,
   "metadata": {},
   "outputs": [
    {
     "data": {
      "text/plain": [
       "Membership Status\n",
       "Candidate for Accreditation (pdf)     15\n",
       "Educational Member (pdf)              42\n",
       "Accredited Member (pdf)              182\n",
       "Name: Institution, dtype: int64"
      ]
     },
     "execution_count": 112,
     "metadata": {},
     "output_type": "execute_result"
    }
   ],
   "source": [
    "agg = df.groupby(\"Membership Status\")[\"Institution\"].count().sort_values()\n",
    "agg"
   ]
  },
  {
   "cell_type": "code",
   "execution_count": 111,
   "metadata": {},
   "outputs": [
    {
     "data": {
      "text/plain": [
       "<matplotlib.axes._subplots.AxesSubplot at 0x1ba4a8e0470>"
      ]
     },
     "execution_count": 111,
     "metadata": {},
     "output_type": "execute_result"
    },
    {
     "data": {
      "image/png": "[encoded data removed]",
      "text/plain": [
       "<Figure size 720x432 with 1 Axes>"
      ]
     },
     "metadata": {
      "needs_background": "light"
     },
     "output_type": "display_data"
    }
   ],
   "source": [
    "fig, ax = plt.subplots(figsize=(10,6))\n",
    "agg.plot.bar(ax=ax, rot=45)"
   ]
  },
  {
   "cell_type": "code",
   "execution_count": null,
   "metadata": {},
   "outputs": [],
   "source": []
  },
  {
   "cell_type": "code",
   "execution_count": 113,
   "metadata": {},
   "outputs": [
    {
     "data": {
      "text/plain": [
       "Country\n",
       "Lebanon                  1\n",
       "Uganda                   1\n",
       "Turkey                   1\n",
       "Thailand                 1\n",
       "Spain                    1\n",
       "Netherlands              1\n",
       "Italy                    1\n",
       "Indonesia                1\n",
       "Vietnam                  1\n",
       "Germany                  1\n",
       "Dominican Republic       1\n",
       "Curacao                  1\n",
       "Guam                     1\n",
       "Czech Republic           1\n",
       "Guatemala                2\n",
       "Cayman Islands           2\n",
       "United Arab Emirates     2\n",
       "Suriname                 2\n",
       "Puerto Rico              2\n",
       "China                    3\n",
       "Afghanistan              3\n",
       "North Cyprus             3\n",
       "France                   3\n",
       "Philippines              3\n",
       "Poland                   4\n",
       "Switzerland             10\n",
       "India                   11\n",
       "Name: Institution, dtype: int64"
      ]
     },
     "execution_count": 113,
     "metadata": {},
     "output_type": "execute_result"
    }
   ],
   "source": [
    "agg2 = df[df[\"Country\"] != \"United States\"].groupby(\"Country\")[\"Institution\"].count().sort_values()\n",
    "agg2"
   ]
  },
  {
   "cell_type": "code",
   "execution_count": 90,
   "metadata": {},
   "outputs": [
    {
     "data": {
      "text/plain": [
       "<matplotlib.axes._subplots.AxesSubplot at 0x1ba4a3541d0>"
      ]
     },
     "execution_count": 90,
     "metadata": {},
     "output_type": "execute_result"
    },
    {
     "data": {
      "image/png": "[encoded data removed]",
      "text/plain": [
       "<Figure size 720x720 with 1 Axes>"
      ]
     },
     "metadata": {
      "needs_background": "light"
     },
     "output_type": "display_data"
    }
   ],
   "source": [
    "fig, ax = plt.subplots(figsize=(10,10))\n",
    "agg2.plot.barh(ax=ax)"
   ]
  },
  {
   "cell_type": "code",
   "execution_count": 114,
   "metadata": {},
   "outputs": [
    {
     "data": {
      "text/plain": [
       "State\n",
       "AK     1\n",
       "NV     1\n",
       "CO     1\n",
       "NM     1\n",
       "DE     1\n",
       "NH     1\n",
       "HI     1\n",
       "ID     1\n",
       "SC     2\n",
       "MO     2\n",
       "ME     2\n",
       "LA     2\n",
       "MS     2\n",
       "CT     2\n",
       "KS     2\n",
       "IA     2\n",
       "NC     3\n",
       "RI     3\n",
       "AL     3\n",
       "TN     3\n",
       "OK     3\n",
       "MT     3\n",
       "OR     3\n",
       "VA     3\n",
       "IN     3\n",
       "WI     3\n",
       "MN     4\n",
       "ND     4\n",
       "NE     4\n",
       "MI     4\n",
       "TX     4\n",
       "MD     4\n",
       "SD     4\n",
       "WV     4\n",
       "KY     5\n",
       "NJ     5\n",
       "FL     6\n",
       "IL     7\n",
       "OH     9\n",
       "CA    12\n",
       "PA    12\n",
       "MA    13\n",
       "NY    20\n",
       "Name: Institution, dtype: int64"
      ]
     },
     "execution_count": 114,
     "metadata": {},
     "output_type": "execute_result"
    }
   ],
   "source": [
    "agg3 = df[df[\"Country\"] == \"United States\"].groupby(\"State\")[\"Institution\"].count().sort_values()\n",
    "agg3"
   ]
  },
  {
   "cell_type": "code",
   "execution_count": 97,
   "metadata": {},
   "outputs": [
    {
     "data": {
      "text/plain": [
       "<matplotlib.axes._subplots.AxesSubplot at 0x1ba4a67a6d8>"
      ]
     },
     "execution_count": 97,
     "metadata": {},
     "output_type": "execute_result"
    },
    {
     "data": {
      "image/png": "[encoded data removed]",
      "text/plain": [
       "<Figure size 720x720 with 1 Axes>"
      ]
     },
     "metadata": {
      "needs_background": "light"
     },
     "output_type": "display_data"
    }
   ],
   "source": [
    "fig, ax = plt.subplots(figsize=(10,10))\n",
    "agg3.plot.barh(ax=ax)"
   ]
  },
  {
   "cell_type": "code",
   "execution_count": 115,
   "metadata": {},
   "outputs": [
    {
     "data": {
      "text/html": [
       "<div>\n",
       "<style scoped>\n",
       "    .dataframe tbody tr th:only-of-type {\n",
       "        vertical-align: middle;\n",
       "    }\n",
       "\n",
       "    .dataframe tbody tr th {\n",
       "        vertical-align: top;\n",
       "    }\n",
       "\n",
       "    .dataframe thead th {\n",
       "        text-align: right;\n",
       "    }\n",
       "</style>\n",
       "<table border=\"1\" class=\"dataframe\">\n",
       "  <thead>\n",
       "    <tr style=\"text-align: right;\">\n",
       "      <th></th>\n",
       "      <th>Institution</th>\n",
       "      <th>Location</th>\n",
       "      <th>Academic Business Unit</th>\n",
       "      <th>Membership Status</th>\n",
       "      <th>Country</th>\n",
       "      <th>State</th>\n",
       "    </tr>\n",
       "  </thead>\n",
       "  <tbody>\n",
       "    <tr>\n",
       "      <th>1</th>\n",
       "      <td>AIMS Institute of Higher Education (AIMS Insti...</td>\n",
       "      <td>India</td>\n",
       "      <td></td>\n",
       "      <td>Accredited Member (pdf)</td>\n",
       "      <td>India</td>\n",
       "      <td></td>\n",
       "    </tr>\n",
       "    <tr>\n",
       "      <th>2</th>\n",
       "      <td>Acharya Bangalore Business School</td>\n",
       "      <td>India</td>\n",
       "      <td>Acharya Bangalore Business School</td>\n",
       "      <td>Accredited Member (pdf)</td>\n",
       "      <td>India</td>\n",
       "      <td></td>\n",
       "    </tr>\n",
       "    <tr>\n",
       "      <th>3</th>\n",
       "      <td>Aditya Degree College</td>\n",
       "      <td>India</td>\n",
       "      <td></td>\n",
       "      <td>Educational Member (pdf)</td>\n",
       "      <td>India</td>\n",
       "      <td></td>\n",
       "    </tr>\n",
       "    <tr>\n",
       "      <th>4</th>\n",
       "      <td>Adventist International Institute of Advanced ...</td>\n",
       "      <td>Philippines</td>\n",
       "      <td></td>\n",
       "      <td>Educational Member (pdf)</td>\n",
       "      <td>Philippines</td>\n",
       "      <td></td>\n",
       "    </tr>\n",
       "    <tr>\n",
       "      <th>5</th>\n",
       "      <td>Alaska Pacific University</td>\n",
       "      <td>AK</td>\n",
       "      <td>Institute of Business &amp; Public Policy</td>\n",
       "      <td>Accredited Member (pdf)</td>\n",
       "      <td>United States</td>\n",
       "      <td>AK</td>\n",
       "    </tr>\n",
       "  </tbody>\n",
       "</table>\n",
       "</div>"
      ],
      "text/plain": [
       "                                         Institution     Location  \\\n",
       "1  AIMS Institute of Higher Education (AIMS Insti...        India   \n",
       "2                  Acharya Bangalore Business School        India   \n",
       "3                              Aditya Degree College        India   \n",
       "4  Adventist International Institute of Advanced ...  Philippines   \n",
       "5                          Alaska Pacific University           AK   \n",
       "\n",
       "                  Academic Business Unit         Membership Status  \\\n",
       "1                                          Accredited Member (pdf)   \n",
       "2      Acharya Bangalore Business School   Accredited Member (pdf)   \n",
       "3                                         Educational Member (pdf)   \n",
       "4                                         Educational Member (pdf)   \n",
       "5  Institute of Business & Public Policy   Accredited Member (pdf)   \n",
       "\n",
       "         Country State  \n",
       "1          India        \n",
       "2          India        \n",
       "3          India        \n",
       "4    Philippines        \n",
       "5  United States    AK  "
      ]
     },
     "execution_count": 115,
     "metadata": {},
     "output_type": "execute_result"
    }
   ],
   "source": [
    "df.head()"
   ]
  },
  {
   "cell_type": "code",
   "execution_count": 116,
   "metadata": {},
   "outputs": [],
   "source": [
    "df.to_csv(\"./output/IACBE.csv\")"
   ]
  },
  {
   "cell_type": "markdown",
   "metadata": {},
   "source": [
    "The END"
   ]
  }
 ],
 "metadata": {
  "kernelspec": {
   "display_name": "Python 3",
   "language": "python",
   "name": "python3"
  },
  "language_info": {
   "codemirror_mode": {
    "name": "ipython",
    "version": 3
   },
   "file_extension": ".py",
   "mimetype": "text/x-python",
   "name": "python",
   "nbconvert_exporter": "python",
   "pygments_lexer": "ipython3",
   "version": "3.7.4"
  }
 },
 "nbformat": 4,
 "nbformat_minor": 4
}
